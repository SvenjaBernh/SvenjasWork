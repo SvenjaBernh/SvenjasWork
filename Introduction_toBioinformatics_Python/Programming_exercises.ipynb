{
 "cells": [
  {
   "cell_type": "code",
   "execution_count": 2,
   "metadata": {},
   "outputs": [],
   "source": [
    "import random"
   ]
  },
  {
   "attachments": {},
   "cell_type": "markdown",
   "metadata": {},
   "source": [
    "### Übung 1\n",
    " Implementieren Sie zwei Funktionen edit recursive(x,y) und edit dynamic(x,y), die jeweils die\n",
    "Edit-Distanz zweier Sequenzen x und y mit Einheitskosten berechnen. Die erste Funktion soll\n",
    "dabei rekursiv vorgehen, w¨ahrend die zweite das Dynamic-Programming Prinzip anwenden soll.\n",
    "Es soll lediglich die Distanz berechnet werden, Sie m¨ussen kein optimales Alignment berechnen"
   ]
  },
  {
   "cell_type": "code",
   "execution_count": 21,
   "metadata": {},
   "outputs": [],
   "source": [
    "def edit_recursive(x,y):\n",
    "    '''recursive calculation of edit distance of two sequences\n",
    "    :return: int'''\n",
    "    if len(x) == 0: return len(y)\n",
    "    elif len(y) == 0: return len(x)\n",
    "    elif x[-1] == y[-1]: return edit_recursive(x[:-1], y[:-1])\n",
    "    else: \n",
    "        return 1 + min(\n",
    "            edit_recursive(x[:-1], y[:-1]),\n",
    "            edit_recursive(x[:-1],y),\n",
    "            edit_recursive(x, y[:-1])\n",
    "        )\n",
    "\n",
    "def edit_dynamic(x,y):\n",
    "    '''dynamic calculation of edit distance of two sequences\n",
    "    :return: int'''\n",
    "    dist_matrix = [[0 for i in range(len(x) + 1)] for j in range(len(y) + 1)]\n",
    "    \n",
    "    for i in range(len(x) + 1):\n",
    "        for j in range(len(y) + 1):\n",
    "            if i == 0: dist_matrix[i][j] = j\n",
    "            elif j == 0: dist_matrix[i][j] = i\n",
    "            elif x[i-1] == y[j-1]: dist_matrix[i][j] = dist_matrix[i-1][j-1]\n",
    "            else: dist_matrix[i][j] = 1 + min(\n",
    "                dist_matrix[i-1][j-1],\n",
    "                dist_matrix[i][j-1],\n",
    "                dist_matrix[i-1][j]\n",
    "            )\n",
    "    return dist_matrix[len(x)][len(y)]"
   ]
  },
  {
   "cell_type": "code",
   "execution_count": 27,
   "metadata": {},
   "outputs": [
    {
     "name": "stdout",
     "output_type": "stream",
     "text": [
      "Sequence a: \n",
      "['T', 'A', 'T', 'G', 'G', 'C', 'G', 'T', 'T', 'A']\n",
      "\n",
      "Sequence b: \n",
      "['C', 'G', 'C', 'C', 'C', 'A', 'G', 'C', 'G', 'C']\n",
      "9\n",
      "9\n"
     ]
    }
   ],
   "source": [
    "seq_a = [random.choice('AGTC') for i in range(10)]\n",
    "seq_b = [random.choice('AGTC') for i in range(10)]\n",
    "\n",
    "print(\"Sequence a: \")\n",
    "print(seq_a)\n",
    "print(\"\\nSequence b: \")\n",
    "print(seq_b)\n",
    "print(edit_dynamic(seq_a, seq_b))\n",
    "print(edit_recursive(seq_a, seq_b))"
   ]
  },
  {
   "attachments": {},
   "cell_type": "markdown",
   "metadata": {},
   "source": [
    "### Übung 2\n",
    "\n",
    "Implementieren Sie eine Funktion align semi(x,y), die ein semi-globales Alignment zweier Sequenzen x und y berechnet.\n",
    "\n",
    "• Orientieren Sie sich an ihrer Implementierung der Funktion edit dynamic(x,y). Welche\n",
    "Schritte m¨ussen zur Berechnung eines semi-globalen Alignments angepasst werden? (Hinweis: Nutzen Sie ein Ahnlichkeitsmaß!) ¨\n",
    "\n",
    "• W¨ahrend die Funktion edit dynamic(x,y) nur eine optimale Distanz zur¨uckgegeben hat, soll\n",
    "die Funktion align semi(x,y) nun auch ein optimales Alignment zur¨uckgeben. Sie k¨onnen\n",
    "f¨ur das Backtracing eine weitere Matrix verwenden, in der die entsprechenden Backpointer\n",
    "gespeichert werden"
   ]
  }
 ],
 "metadata": {
  "kernelspec": {
   "display_name": "Python 3",
   "language": "python",
   "name": "python3"
  },
  "language_info": {
   "codemirror_mode": {
    "name": "ipython",
    "version": 3
   },
   "file_extension": ".py",
   "mimetype": "text/x-python",
   "name": "python",
   "nbconvert_exporter": "python",
   "pygments_lexer": "ipython3",
   "version": "3.10.5"
  },
  "orig_nbformat": 4,
  "vscode": {
   "interpreter": {
    "hash": "b7fe5554a7ea04c1d60f1e1489841cb8c19328d94d27e6c122252cf4ab9bf6b0"
   }
  }
 },
 "nbformat": 4,
 "nbformat_minor": 2
}
